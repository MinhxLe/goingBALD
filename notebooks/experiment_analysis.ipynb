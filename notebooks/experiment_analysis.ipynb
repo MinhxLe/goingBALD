{
 "cells": [
  {
   "cell_type": "code",
   "execution_count": 1,
   "metadata": {},
   "outputs": [
    {
     "name": "stdout",
     "output_type": "stream",
     "text": [
      "/home/minh/Research/goingBALD\n"
     ]
    }
   ],
   "source": [
    "%cd ~/Research/goingBALD\n",
    "%load_ext autoreload\n",
    "%autoreload 2"
   ]
  },
  {
   "cell_type": "code",
   "execution_count": 8,
   "metadata": {},
   "outputs": [],
   "source": [
    "import json\n",
    "import os\n",
    "import torch\n",
    "import matplotlib.pyplot as plt"
   ]
  },
  {
   "cell_type": "code",
   "execution_count": 4,
   "metadata": {},
   "outputs": [],
   "source": [
    "EXPERIMENTS_DIR = '/home/minh/Research/goingBALD/experiments/conll2003_random_sampler_2020-06-28_02:38:00'"
   ]
  },
  {
   "cell_type": "code",
   "execution_count": 14,
   "metadata": {},
   "outputs": [],
   "source": [
    "with open(os.path.join(EXPERIMENTS_DIR, \"experiment_args.txt\")) as f:\n",
    "    args = json.load(f)"
   ]
  },
  {
   "cell_type": "code",
   "execution_count": null,
   "metadata": {},
   "outputs": [],
   "source": []
  },
  {
   "cell_type": "code",
   "execution_count": 15,
   "metadata": {},
   "outputs": [
    {
     "data": {
      "text/plain": [
       "{'batch_size': 32,\n",
       " 'dropout': 0.5,\n",
       " 'emb_dropout': 0.25,\n",
       " 'clip': 0.35,\n",
       " 'char_kernel_size': 3,\n",
       " 'word_kernel_size': 3,\n",
       " 'emsize': 50,\n",
       " 'char_layers': 3,\n",
       " 'word_layers': 3,\n",
       " 'char_nhid': 50,\n",
       " 'word_nhid': 300,\n",
       " 'train_epochs': 3,\n",
       " 'lr': 4,\n",
       " 'optim': 'SGD',\n",
       " 'weight': 10,\n",
       " 'seed': 1111,\n",
       " 'al_epochs': 20,\n",
       " 'experiment_name': 'conll2003_random_sampler',\n",
       " 'log_interval': 10,\n",
       " 'debug': False}"
      ]
     },
     "execution_count": 15,
     "metadata": {},
     "output_type": "execute_result"
    }
   ],
   "source": [
    "for i in range(args.al_epochs)\n",
    "    model = torch.loads"
   ]
  },
  {
   "cell_type": "code",
   "execution_count": null,
   "metadata": {},
   "outputs": [],
   "source": []
  }
 ],
 "metadata": {
  "kernelspec": {
   "display_name": "Python 3",
   "language": "python",
   "name": "python3"
  },
  "language_info": {
   "codemirror_mode": {
    "name": "ipython",
    "version": 3
   },
   "file_extension": ".py",
   "mimetype": "text/x-python",
   "name": "python",
   "nbconvert_exporter": "python",
   "pygments_lexer": "ipython3",
   "version": "3.8.3"
  }
 },
 "nbformat": 4,
 "nbformat_minor": 4
}
